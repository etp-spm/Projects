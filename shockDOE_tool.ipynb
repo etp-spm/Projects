{
 "cells": [
  {
   "cell_type": "code",
   "execution_count": null,
   "id": "0",
   "metadata": {},
   "outputs": [],
   "source": [
    "# conda create -p ./.conda python=3.13.5 ipykernel -y; conda activate ./.conda; python -m ipykernel install --user --name \"$((Split-Path -Leaf (Get-Location)))-conda\" --display-name \"Python ($((Split-Path -Leaf (Get-Location)))-conda)\"\n",
    "\n",
    "# --- IGNORE ---\n",
    "# powershell commands to setup git/GitHub for first time use\n",
    "\n"
   ]
  }
 ],
 "metadata": {
  "jupytext": {
   "formats": "ipynb,py"
  },
  "kernelspec": {
   "display_name": "Python (ShockDOE_rewrite-conda)",
   "language": "python",
   "name": "shockdoe_rewrite-conda"
  },
  "language_info": {
   "codemirror_mode": {
    "name": "ipython",
    "version": 3
   },
   "file_extension": ".py",
   "mimetype": "text/x-python",
   "name": "python",
   "nbconvert_exporter": "python",
   "pygments_lexer": "ipython3",
   "version": "3.13.5"
  }
 },
 "nbformat": 4,
 "nbformat_minor": 5
}
