{
 "cells": [
  {
   "cell_type": "code",
   "execution_count": null,
   "id": "0",
   "metadata": {},
   "outputs": [],
   "source": [
    "# conda create -p ./.conda python=3.13.5 ipykernel -y; conda activate ./.conda; python -m ipykernel install --user --name \"$((Split-Path -Leaf (Get-Location)))-conda\" --display-name \"Python ($((Split-Path -Leaf (Get-Location)))-conda)\"\n",
    "\n",
    "# Python conversion from Matlab Shock DOE tool\n",
    "\n",
    "%reset -f \n",
    "\n",
    "import numpy as np\n",
    "import matplotlib.pyplot as plt\n",
    "import pandas as pd\n",
    "import re\n",
    "\n",
    "\n",
    "# Functions\n",
    "def parse_damper_id(id_str):\n",
    "    # Find positions of delimiters\n",
    "    if not isinstance(id_str, str) or not id_str:\n",
    "        raise ValueError(\"id_str must be a non-empty string\")\n",
    "    \n",
    "    idxDash = [m.start() for m in re.finditer(r'-', id_str)]\n",
    "    idxDot = [m.start() for m in re.finditer(r'\\.', id_str)]\n",
    "    if len(idxDash) < 3 or len(idxDot) < 2:\n",
    "        raise ValueError(\"id_str format is incorrect\")\n",
    "\n",
    "    lsc = int(id_str[idxDot[0]+1:idxDash[0]])\n",
    "    hsc = int(id_str[idxDash[0]+1:idxDash[1]])\n",
    "    lsr = int(id_str[idxDot[-1]+1:idxDash[-1]])\n",
    "    hsr = int(id_str[idxDash[-1]+1:])\n",
    "    return lsc, hsc, lsr, hsr\n",
    "\n",
    "\n",
    "# Main script\n",
    "# clear variables\n",
    "\n",
    "# ask user for damper ID from clipboard\n",
    "# Read clipboard data and convert to DataFrame\n",
    "clipboard_data = input(\"Please copy the desired data, then press Enter to continue...\")\n",
    "df_clipboard = pd.DataFrame([x.split() for x in clipboard_data.splitlines()]) # split by whitespace\n",
    "\n",
    "id_lf = str(df_clipboard.iloc[0,0])\n",
    "id_rf = str(df_clipboard.iloc[0,1])\n",
    "id_lr = str(df_clipboard.iloc[0,2])\n",
    "id_rr = str(df_clipboard.iloc[0,3])\n",
    "\n",
    "lf_clicks = parse_damper_id(id_lf)\n",
    "rf_clicks = parse_damper_id(id_rf)\n",
    "lr_clicks = parse_damper_id(id_lr)\n",
    "rr_clicks = parse_damper_id(id_rr)\n",
    "\n",
    "\n"
   ]
  }
 ],
 "metadata": {
  "jupytext": {
   "formats": "ipynb,py"
  },
  "kernelspec": {
   "display_name": "base",
   "language": "python",
   "name": "python3"
  },
  "language_info": {
   "codemirror_mode": {
    "name": "ipython",
    "version": 3
   },
   "file_extension": ".py",
   "mimetype": "text/x-python",
   "name": "python",
   "nbconvert_exporter": "python",
   "pygments_lexer": "ipython3",
   "version": "3.13.5"
  }
 },
 "nbformat": 4,
 "nbformat_minor": 5
}
