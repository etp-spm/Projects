{
 "cells": [
  {
   "cell_type": "code",
   "execution_count": 2,
   "id": "20a1fc26",
   "metadata": {},
   "outputs": [
    {
     "name": "stdout",
     "output_type": "stream",
     "text": [
      "5\n"
     ]
    }
   ],
   "source": [
    "# conda create -p ./.conda python=3.13.5 ipykernel -y; conda activate ./.conda; python -m ipykernel install --user --name \"$((Split-Path -Leaf (Get-Location)))-conda\" --display-name \"Python ($((Split-Path -Leaf (Get-Location)))-conda)\"\n",
    "a = 5\n",
    "print(a)"
   ]
  }
 ],
 "metadata": {
  "kernelspec": {
   "display_name": "Python (ShockDOE_rewrite-conda)",
   "language": "python",
   "name": "shockdoe_rewrite-conda"
  },
  "language_info": {
   "codemirror_mode": {
    "name": "ipython",
    "version": 3
   },
   "file_extension": ".py",
   "mimetype": "text/x-python",
   "name": "python",
   "nbconvert_exporter": "python",
   "pygments_lexer": "ipython3",
   "version": "3.13.5"
  }
 },
 "nbformat": 4,
 "nbformat_minor": 5
}
